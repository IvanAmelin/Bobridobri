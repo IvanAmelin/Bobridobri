{
 "cells": [
  {
   "cell_type": "code",
   "execution_count": 214,
   "metadata": {},
   "outputs": [
    {
     "name": "stdout",
     "output_type": "stream",
     "text": [
      "--- 0.0 seconds ---\n",
      "Последнее загаданное число:  98\n",
      "Число попыток для 10000 загаданных чисел: 59401\n",
      "Среднее число попыток на отгадку: 5.94059404940394\n",
      "--- 0.2180483341217041 seconds ---\n"
     ]
    }
   ],
   "source": [
    "import numpy as np\n",
    "start_time = time.time()\n",
    "\n",
    "print(\"--- %s seconds ---\" % (time.time() - start_time))\n",
    "mean = 0\n",
    "count = 0\n",
    "massive_last=101\n",
    "massive_first=1\n",
    "for y in range(0, 10000):\n",
    "    number = np.random.randint(1, 101)\n",
    "    mass = [x for x in range(massive_first, massive_last)]\n",
    "    predict = int((min(mass) + max(mass)))\n",
    "    for i in range(0,100):\n",
    "        count += 1\n",
    "        if number == predict:\n",
    "            break\n",
    "        if number > predict:\n",
    "            massive_first = predict + 1\n",
    "            mass = [x for x in range(predict+1, massive_last)]\n",
    "            predict = int(((min(mass) + max(mass))/2))\n",
    "        if number < predict:\n",
    "            massive_last = predict              \n",
    "            mass = [x for x in range(massive_first, predict+1)]    \n",
    "            predict = int(((min(mass) + max(mass))/2))\n",
    "        mean = (mean + count)/10000\n",
    "    massive_last=101\n",
    "    massive_first=1\n",
    "print(\"Последнее загаданное число: \", number)\n",
    "print(\"Число попыток для 10000 загаданных чисел:\", count)\n",
    "print(\"Среднее число попыток на отгадку:\", mean)\n",
    "print(\"--- %s seconds ---\" % (time.time() - start_time))"
   ]
  },
  {
   "cell_type": "code",
   "execution_count": null,
   "metadata": {},
   "outputs": [],
   "source": []
  }
 ],
 "metadata": {
  "kernelspec": {
   "display_name": "Python 3",
   "language": "python",
   "name": "python3"
  },
  "language_info": {
   "codemirror_mode": {
    "name": "ipython",
    "version": 3
   },
   "file_extension": ".py",
   "mimetype": "text/x-python",
   "name": "python",
   "nbconvert_exporter": "python",
   "pygments_lexer": "ipython3",
   "version": "3.7.4"
  }
 },
 "nbformat": 4,
 "nbformat_minor": 2
}
